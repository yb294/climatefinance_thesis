{
 "cells": [
  {
   "cell_type": "markdown",
   "metadata": {},
   "source": [
    "<div style=\"text-align: right\">Author: Yuktha Bhadane (yb294@cornell.edu)</div>"
   ]
  },
  {
   "cell_type": "markdown",
   "metadata": {},
   "source": [
    "### Table 1: Global summary statistics Forward Analytics power sector data\n",
    "This notebook analyzes the Forward Analytics Forward Analytics with global coverage of power plants at the asset level and creates a comprehensive summary table only for the **79797 operational power plants**. "
   ]
  },
  {
   "cell_type": "markdown",
   "metadata": {},
   "source": [
    "0. Set Up"
   ]
  },
  {
   "cell_type": "code",
   "execution_count": 1,
   "metadata": {},
   "outputs": [],
   "source": [
    "import pandas as pd\n",
    "\n",
    "# Load the Forward Analytics (cleaned) dataset\n",
    "# Update the path as needed\n",
    "df = pd.read_csv('/Users/yukthabhadane/Documents/Climate Finance Thesis/Data/v5_power_Forward_Analytics2024.csv')\n",
    "\n",
    "# Define fuel groups\n",
    "fossil_fuels = ['Coal', 'Oil', 'Gas']\n",
    "renewables = ['Solar', 'Wind', 'Hydropower', 'Geothermal ']  # Note space after Geothermal\n",
    "others = ['Nuclear', 'Bioenergy', 'Other']\n",
    "\n",
    "# Filter operating plants\n",
    "operating_df = df[df['status'] == 'operating']\n",
    "\n",
    "# Group for the table\n",
    "renewables_nuclear = renewables + ['Nuclear']\n",
    "fossil_fuels_other = fossil_fuels + ['Other']\n",
    "all_categories = fossil_fuels + renewables + others"
   ]
  },
  {
   "cell_type": "markdown",
   "metadata": {},
   "source": [
    "1. Calculations"
   ]
  },
  {
   "cell_type": "code",
   "execution_count": 2,
   "metadata": {},
   "outputs": [],
   "source": [
    "# Create empty dictionaries to store data\n",
    "plant_counts = {}\n",
    "capacity = {}\n",
    "used_capacity = {}\n",
    "electricity_gen = {}\n",
    "emissions = {}\n",
    "\n",
    "# Calculate metrics for each category\n",
    "for category in all_categories:\n",
    "    category_df = operating_df[operating_df['subsector'] == category]\n",
    "    plant_counts[category] = len(category_df)\n",
    "    capacity[category] = category_df['capacity'].sum() / 1000  # MW to GW\n",
    "    used_capacity[category] = category_df['used_capacity'].sum() / 1000  # MW to GW\n",
    "    electricity_gen[category] = used_capacity[category] * 8760 / 1000  # GW to TWh\n",
    "    emissions[category] = category_df['annualco2tyear'].sum() / 1000  # million tonnes to gigatonnes\n",
    "\n",
    "# Calculate totals\n",
    "total_count = sum(plant_counts.values())\n",
    "total_capacity = sum(capacity.values())\n",
    "total_used = sum(used_capacity.values())\n",
    "total_gen = sum(electricity_gen.values())\n",
    "total_emissions = sum(emissions.values())\n",
    "\n",
    "# Calculate subtotals\n",
    "fossil_other_count = sum(plant_counts[cat] for cat in fossil_fuels_other if cat in plant_counts)\n",
    "fossil_other_capacity = sum(capacity[cat] for cat in fossil_fuels_other if cat in capacity)\n",
    "fossil_other_used = sum(used_capacity[cat] for cat in fossil_fuels_other if cat in used_capacity)\n",
    "fossil_other_gen = sum(electricity_gen[cat] for cat in fossil_fuels_other if cat in electricity_gen)\n",
    "fossil_other_emissions = sum(emissions[cat] for cat in fossil_fuels_other if cat in emissions)\n",
    "\n",
    "renewable_nuclear_count = sum(plant_counts[cat] for cat in renewables_nuclear if cat in plant_counts)\n",
    "renewable_nuclear_capacity = sum(capacity[cat] for cat in renewables_nuclear if cat in capacity)\n",
    "renewable_nuclear_used = sum(used_capacity[cat] for cat in renewables_nuclear if cat in used_capacity)\n",
    "renewable_nuclear_gen = sum(electricity_gen[cat] for cat in renewables_nuclear if cat in electricity_gen)\n",
    "renewable_nuclear_emissions = 0  # Assuming renewables and nuclear have zero emissions\n",
    "\n",
    "# Constants for global context (Gt)\n",
    "total_energy_co2 = 37.4  # IEA (2024), CO2 Emissions in 2023, IEA, Paris https://www.iea.org/reports/co2-emissions-in-2023\n",
    "total_co2 = 41.6  # #Global Carbon Budget 2024, Earth Syst. Sci. Data Discuss. [preprint], https://doi.org/10.5194/essd-2024-519, in review, 2024.\n",
    "\n",
    "# Create the table data\n",
    "data = []\n",
    "\n",
    "# Add rows for each category\n",
    "for category in all_categories:\n",
    "    if category in plant_counts:\n",
    "        data.append({\n",
    "            'Category': category,\n",
    "            'Number': plant_counts[category],\n",
    "            '%': round(plant_counts[category] / total_count * 100, 1),\n",
    "            'Capacity (GW)': round(capacity[category], 1),\n",
    "            '% of capacity': round(capacity[category] / total_capacity * 100, 1),\n",
    "            'Used Capacity (GW)': round(used_capacity[category], 1),\n",
    "            '% of used capacity': round(used_capacity[category] / total_used * 100, 1),\n",
    "            'Electricity Generation (TWh)': round(electricity_gen[category], 1),\n",
    "            '% of generation': round(electricity_gen[category] / total_gen * 100, 1),\n",
    "            'Emissions (GtCO2e)': round(emissions[category], 2),\n",
    "            '% of emissions': round(emissions[category] / total_emissions * 100, 1) if total_emissions > 0 else 0,\n",
    "            '% of energy related CO2 (37.4)': round(emissions[category] / total_energy_co2 * 100, 1),\n",
    "            '% of total CO2 (41.6)': round(emissions[category] / total_co2 * 100, 1)\n",
    "        })\n",
    "\n",
    "# Add subtotal row for fossil fuels + other\n",
    "data.append({\n",
    "    'Category': 'Fossil fuels (+other)',\n",
    "    'Number': fossil_other_count,\n",
    "    '%': round(fossil_other_count / total_count * 100, 1),\n",
    "    'Capacity (GW)': round(fossil_other_capacity, 1),\n",
    "    '% of capacity': round(fossil_other_capacity / total_capacity * 100, 1),\n",
    "    'Used Capacity (GW)': round(fossil_other_used, 1),\n",
    "    '% of used capacity': round(fossil_other_used / total_used * 100, 1),\n",
    "    'Electricity Generation (TWh)': round(fossil_other_gen, 1),\n",
    "    '% of generation': round(fossil_other_gen / total_gen * 100, 1),\n",
    "    'Emissions (GtCO2e)': round(fossil_other_emissions, 2),\n",
    "    '% of emissions': 100.0,\n",
    "    '% of energy related CO2 (37.4)': round(fossil_other_emissions / total_energy_co2 * 100, 1),\n",
    "    '% of total CO2 (41.6)': round(fossil_other_emissions / total_co2 * 100, 1)\n",
    "})\n",
    "\n",
    "# Add subtotal row for renewables + nuclear\n",
    "data.append({\n",
    "    'Category': 'Renewables (+nuclear)',\n",
    "    'Number': renewable_nuclear_count,\n",
    "    '%': round(renewable_nuclear_count / total_count * 100, 1),\n",
    "    'Capacity (GW)': round(renewable_nuclear_capacity, 1),\n",
    "    '% of capacity': round(renewable_nuclear_capacity / total_capacity * 100, 1),\n",
    "    'Used Capacity (GW)': round(renewable_nuclear_used, 1),\n",
    "    '% of used capacity': round(renewable_nuclear_used / total_used * 100, 1),\n",
    "    'Electricity Generation (TWh)': round(renewable_nuclear_gen, 1),\n",
    "    '% of generation': round(renewable_nuclear_gen / total_gen * 100, 1),\n",
    "    'Emissions (GtCO2e)': 0.0,\n",
    "    '% of emissions': 0.0,\n",
    "    '% of energy related CO2 (37.4)': 0.0,\n",
    "    '% of total CO2 (41.6)': 0.0\n",
    "})\n",
    "\n",
    "# Add total row\n",
    "data.append({\n",
    "    'Category': 'Total',\n",
    "    'Number': total_count,\n",
    "    '%': 100.0,\n",
    "    'Capacity (GW)': round(total_capacity, 1),\n",
    "    '% of capacity': 100.0,\n",
    "    'Used Capacity (GW)': round(total_used, 1),\n",
    "    '% of used capacity': 100.0,\n",
    "    'Electricity Generation (TWh)': round(total_gen, 1),\n",
    "    '% of generation': 100.0,\n",
    "    'Emissions (GtCO2e)': round(total_emissions, 2),\n",
    "    '% of emissions': 100.0,\n",
    "    '% of energy related CO2 (37.4)': round(total_emissions / total_energy_co2 * 100, 1),\n",
    "    '% of total CO2 (41.6)': round(total_emissions / total_co2 * 100, 1)\n",
    "})"
   ]
  },
  {
   "cell_type": "markdown",
   "metadata": {},
   "source": [
    "2. Formatting the Table"
   ]
  },
  {
   "cell_type": "code",
   "execution_count": 3,
   "metadata": {},
   "outputs": [
    {
     "name": "stdout",
     "output_type": "stream",
     "text": [
      "\n",
      "Table 1: Global summary statistics Forward Analytics power sector data.\n",
      "                       Number      %  Capacity (GW)  % of capacity  Used Capacity (GW)  % of used capacity  Electricity Generation (TWh)  % of generation  Emissions (GtCO2e)  % of emissions  % of energy related CO2 (37.4)  % of total CO2 (41.6)\n",
      "Category                                                                                                                                                                                                                                            \n",
      "Coal                     6823    8.6         2281.3           24.7              1138.8                29.5                        9976.0             29.5               10.08            71.2                            27.0                   24.2\n",
      "Gas                      8043   10.1         1931.8           20.9               884.8                22.9                        7751.0             22.9                3.41            24.1                             9.1                    8.2\n",
      "Oil                      1159    1.5          152.8            1.7                67.7                 1.8                         593.5              1.8                0.64             4.5                             1.7                    1.5\n",
      "Other                      78    0.1            8.8            0.1                 4.1                 0.1                          35.5              0.1                0.03             0.2                             0.1                    0.1\n",
      "Solar                   38589   48.4          915.8            9.9               126.4                 3.3                        1107.1              3.3                0.00             0.0                             0.0                    0.0\n",
      "Wind                    19048   23.9         1108.1           12.0               241.1                 6.3                        2111.9              6.3                0.00             0.0                             0.0                    0.0\n",
      "Hydropower               3430    4.3         2195.3           23.7               898.7                23.3                        7872.2             23.3                0.00             0.0                             0.0                    0.0\n",
      "Geothermal                384    0.5           15.8            0.2                12.0                 0.3                         104.8              0.3                0.00             0.0                             0.0                    0.0\n",
      "Bioenergy                1679    2.1           86.1            0.9                42.4                 1.1                         371.7              1.1                0.00             0.0                             0.0                    0.0\n",
      "Nuclear                   564    0.7          550.4            6.0               441.3                11.4                        3865.9             11.4                0.00             0.0                             0.0                    0.0\n",
      "Fossil fuels (+other)   16103   20.2         4374.7           47.3              2095.4                54.3                       18356.0             54.3               14.16           100.0                            37.9                   34.0\n",
      "Renewables (+nuclear)   62015   77.7         4785.4           51.8              1719.4                44.6                       15061.9             44.6                0.00             0.0                             0.0                    0.0\n",
      "Total                   79797  100.0         9246.2          100.0              3857.3               100.0                       33789.6            100.0               14.16           100.0                            37.9                   34.0\n"
     ]
    }
   ],
   "source": [
    "# Create the DataFrame\n",
    "summary_df = pd.DataFrame(data)\n",
    "\n",
    "# Define the order of categories\n",
    "category_order = ['Coal', 'Gas', 'Oil', 'Other', 'Solar', 'Wind', 'Hydropower', 'Geothermal ', \n",
    "                 'Bioenergy', 'Nuclear', 'Fossil fuels (+other)', 'Renewables (+nuclear)', 'Total']\n",
    "\n",
    "# Sort the DataFrame and set index\n",
    "summary_df['Category'] = pd.Categorical(summary_df['Category'], categories=category_order, ordered=True)\n",
    "summary_df = summary_df.sort_values('Category')\n",
    "summary_df.set_index('Category', inplace=True)\n",
    "\n",
    "# Display the table\n",
    "print(\"\\nTable 1: Global summary statistics Forward Analytics power sector data.\")\n",
    "print(summary_df.to_string())\n",
    "\n",
    "# Save the table to CSV\n",
    "summary_df.to_csv('table1.csv')"
   ]
  }
 ],
 "metadata": {
  "kernelspec": {
   "display_name": "Python 3",
   "language": "python",
   "name": "python3"
  },
  "language_info": {
   "codemirror_mode": {
    "name": "ipython",
    "version": 3
   },
   "file_extension": ".py",
   "mimetype": "text/x-python",
   "name": "python",
   "nbconvert_exporter": "python",
   "pygments_lexer": "ipython3",
   "version": "3.11.5"
  }
 },
 "nbformat": 4,
 "nbformat_minor": 2
}
